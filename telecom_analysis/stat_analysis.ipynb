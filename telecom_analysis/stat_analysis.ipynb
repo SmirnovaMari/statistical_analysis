{
 "cells": [
  {
   "cell_type": "markdown",
   "id": "bba9a798",
   "metadata": {},
   "source": [
    "# Определение перспективного тарифа для телеком-компании\n",
    "Компания «Мегалайн» — федеральный оператор сотовой связи. Клиентам предлагают два тарифных плана: «Смарт» и «Ультра». Чтобы скорректировать рекламный бюджет, коммерческий департамент хочет понять, какой тариф приносит больше денег.\n",
    "В проекте представлен предварительный анализ тарифов на небольшой выборке клиентов. Предоставлены данные 500 пользователей «Мегалайна»: кто они, откуда, каким тарифом пользуются, сколько звонков и сообщений каждый отправил за 2018 год. Нужно проанализировать поведение клиентов и сделать вывод — какой тариф лучше.\n",
    "\n",
    "**Описание тарифов:**\n",
    "+ Тариф «Смарт»:\n",
    " 1. Ежемесячная плата: 550 рублей\n",
    " 2. Включено 500 минут разговора, 50 сообщений и 15 Гб интернет-трафика\n",
    " 3. Стоимость услуг сверх тарифного пакета:\n",
    "    * минута разговора: 3 рубля\n",
    "    * сообщение: 3 рубля\n",
    "    * 1 Гб интернет-трафика: 200 рублей\n",
    "+ Тариф «Ультра»:\n",
    " 1. Ежемесячная плата: 1950 рублей\n",
    " 2. Включено 3000 минут разговора, 1000 сообщений и 30 Гб интернет-трафика\n",
    " 3. Стоимость услуг сверх тарифного пакета:\n",
    "    * минута разговора: 1 рубль\n",
    "    * сообщение: 1 рубль\n",
    "    * 1 Гб интернет-трафика: 150 рублей"
   ]
  },
  {
   "cell_type": "markdown",
   "id": "0ce6af37",
   "metadata": {},
   "source": [
    "<h1>Содержание<span class=\"tocSkip\"></span></h1>\n",
    "<div class=\"toc\"><ul class=\"toc-item\"><li><span><a href=\"#Изучение-данных-из-файла\" data-toc-modified-id=\"Изучение-данных-из-файла-1\"><span class=\"toc-item-num\">1&nbsp;&nbsp;</span>Изучение данных из файла</a></span><li><span><a href=\"#Предобработка-данных\" data-toc-modified-id=\"Предобработка-данных-2\"><span class=\"toc-item-num\">2&nbsp;&nbsp;</span>Предобработка данных</a></span></li><li><span><a href=\"#Анализ-данных\" data-toc-modified-id=\"Анализ-данных-3\"><span class=\"toc-item-num\">3&nbsp;&nbsp;</span>Анализ данных</a></span></li><li><span><a href=\"Проверка-гипотез\" data-toc-modified-id=\"Проверка-гипотез-4\"><span class=\"toc-item-num\">4&nbsp;&nbsp;</span>Проверка гипотез</a></span><li><span><a href=\"#Общий-вывод\" data-toc-modified-id=\"Общий-вывод-5\"><span class=\"toc-item-num\">5&nbsp;&nbsp;</span>Общий вывод</a></span><ul class=\"toc-item\"></li></ul></div>"
   ]
  },
  {
   "cell_type": "markdown",
   "id": "1dbaa0cc",
   "metadata": {},
   "source": [
    "## 1. Изучение данных из файла"
   ]
  },
  {
   "cell_type": "code",
   "execution_count": 1,
   "id": "1f391d6b",
   "metadata": {},
   "outputs": [],
   "source": [
    "from scipy import stats as st\n",
    "import matplotlib.pyplot as plt\n",
    "import pandas as pd\n",
    "import numpy as np\n",
    "import seaborn as sns\n",
    "from IPython.display import display, HTML"
   ]
  },
  {
   "cell_type": "code",
   "execution_count": 2,
   "id": "ec979e8e",
   "metadata": {},
   "outputs": [
    {
     "data": {},
     "execution_count": 2,
     "metadata": {},
     "output_type": "execute_result"
    }
   ],
   "source": [
    "import os\n",
    "pth1 = 'calls.csv'\n",
    "pth2 = '/datasets/calls.csv'\n",
    "if os.path.exists(pth1):\n",
    "    calls = pd.read_csv(pth1)\n",
    "elif os.path.exists(pth2):\n",
    "    calls = pd.read_csv(pth2)\n",
    "else:\n",
    "    print('Something is wrong')\n",
    "calls.info()\n",
    "calls.head()"
   ]
  },
  {
   "cell_type": "code",
   "execution_count": 3,
   "id": "080845dd",
   "metadata": {},
   "outputs": [
    {
     "data": {},
     "execution_count": 3,
     "metadata": {},
     "output_type": "execute_result"
    }
   ],
   "source": [
    "# проверим дубликаты\n",
    "calls.duplicated().sum()"
   ]
  },
  {
   "cell_type": "code",
   "execution_count": 4,
   "id": "2da6f141",
   "metadata": {},
   "outputs": [
    {
     "data": {},
     "execution_count": 4,
     "metadata": {},
     "output_type": "execute_result"
    }
   ],
   "source": [
    "pth1 = 'internet.csv'\n",
    "pth2 = '/datasets/internet.csv'\n",
    "if os.path.exists(pth1):\n",
    "    internet = pd.read_csv(pth1)\n",
    "elif os.path.exists(pth2):\n",
    "    internet = pd.read_csv(pth2)\n",
    "else:\n",
    "    print('Something is wrong')\n",
    "\n",
    "internet.info()\n",
    "internet.head(10)"
   ]
  },
  {
   "cell_type": "code",
   "execution_count": 5,
   "id": "8982db48",
   "metadata": {},
   "outputs": [
    {
     "data": {},
     "execution_count": 5,
     "metadata": {},
     "output_type": "execute_result"
    }
   ],
   "source": [
    "# проверим дубликаты\n",
    "internet.duplicated().sum()"
   ]
  },
  {
   "cell_type": "code",
   "execution_count": 6,
   "id": "e93f7400",
   "metadata": {},
   "outputs": [
    {
     "data": {},
     "execution_count": 6,
     "metadata": {},
     "output_type": "execute_result"
    }
   ],
   "source": [
    "pth1 = 'messages.csv'\n",
    "pth2 = '/datasets/messages.csv'\n",
    "if os.path.exists(pth1):\n",
    "    messages = pd.read_csv(pth1)\n",
    "elif os.path.exists(pth2):\n",
    "    messages = pd.read_csv(pth2)\n",
    "else:\n",
    "    print('Something is wrong')\n",
    "    \n",
    "messages.info()\n",
    "messages.head(10)"
   ]
  },
  {
   "cell_type": "code",
   "execution_count": 7,
   "id": "8b12595a",
   "metadata": {},
   "outputs": [
    {
     "data": {},
     "execution_count": 7,
     "metadata": {},
     "output_type": "execute_result"
    }
   ],
   "source": [
    "# проверим дубликаты\n",
    "internet.duplicated().sum()"
   ]
  },
  {
   "cell_type": "code",
   "execution_count": 8,
   "id": "913ccd8c",
   "metadata": {},
   "outputs": [
    {
     "data": {},
     "execution_count": 8,
     "metadata": {},
     "output_type": "execute_result"
    }
   ],
   "source": [
    "pth1 = 'tariffs.csv'\n",
    "pth2 = '/datasets/tariffs.csv'\n",
    "if os.path.exists(pth1):\n",
    "    tariffs = pd.read_csv(pth1)\n",
    "elif os.path.exists(pth2):\n",
    "    tariffs = pd.read_csv(pth2)\n",
    "else:\n",
    "    print('Something is wrong')\n",
    "    \n",
    "tariffs.info()\n",
    "tariffs.head(10)"
   ]
  },
  {
   "cell_type": "code",
   "execution_count": 9,
   "id": "e8d26ff0",
   "metadata": {},
   "outputs": [
    {
     "data": {},
     "execution_count": 9,
     "metadata": {},
     "output_type": "execute_result"
    }
   ],
   "source": [
    "pth1 = 'users.csv'\n",
    "pth2 = '/datasets/users.csv'\n",
    "if os.path.exists(pth1):\n",
    "    users = pd.read_csv(pth1)\n",
    "elif os.path.exists(pth2):\n",
    "    users = pd.read_csv(pth2)\n",
    "else:\n",
    "    print('Something is wrong')\n",
    "\n",
    "users.info()\n",
    "users.head(10)"
   ]
  },
  {
   "cell_type": "code",
   "execution_count": 10,
   "id": "4315d9a3",
   "metadata": {},
   "outputs": [
    {
     "data": {},
     "execution_count": 10,
     "metadata": {},
     "output_type": "execute_result"
    }
   ],
   "source": [
    "# проверим дубликаты\n",
    "users.duplicated().sum()"
   ]
  },
  {
   "cell_type": "code",
   "execution_count": 11,
   "id": "21b20a2a",
   "metadata": {},
   "outputs": [
    {
     "data": {},
     "execution_count": 11,
     "metadata": {},
     "output_type": "execute_result"
    }
   ],
   "source": [
    "users.isnull().sum(axis=0)"
   ]
  },
  {
   "cell_type": "markdown",
   "id": "a8b8b857",
   "metadata": {},
   "source": [
    "**Нам представлены данные по 500 клиентам, дубликатов в данных нет, есть пропуски в таблице users в дате прекращения пользования тарифом. В предобработке данных необходимо будет округлить минуты разговора и привести данные к нужному типу (минуты - к целочисленному, дату - к datetime)** "
   ]
  },
  {
   "cell_type": "markdown",
   "id": "36bfebf4",
   "metadata": {},
   "source": [
    "## 2. Предобработка данных"
   ]
  },
  {
   "cell_type": "markdown",
   "id": "7cd094cd",
   "metadata": {},
   "source": [
    "**Округлим минуты разговора до целых значений и приведем их к целому типу, приведем дату звонков к типу datetime в таблице \"calls\" и добавим в таблицу месяц, когда был совершен звонок**"
   ]
  },
  {
   "cell_type": "code",
   "execution_count": 12,
   "id": "458bb71f",
   "metadata": {},
   "outputs": [],
   "source": [
    "calls['call_date'] = pd.to_datetime(calls['call_date'], format='%Y-%m-%d')"
   ]
  },
  {
   "cell_type": "code",
   "execution_count": 13,
   "id": "c01ea18c",
   "metadata": {},
   "outputs": [],
   "source": [
    "calls['month'] = calls['call_date'].dt.month "
   ]
  },
  {
   "cell_type": "code",
   "execution_count": 14,
   "id": "ecdf4894",
   "metadata": {},
   "outputs": [],
   "source": [
    "calls['duration'] = np.ceil(calls['duration']).astype('int')"
   ]
  },
  {
   "cell_type": "code",
   "execution_count": 15,
   "id": "80ec2b15",
   "metadata": {},
   "outputs": [
    {
     "data": {},
     "execution_count": 15,
     "metadata": {},
     "output_type": "execute_result"
    }
   ],
   "source": [
    "calls.head()"
   ]
  },
  {
   "cell_type": "markdown",
   "id": "593ecfc9",
   "metadata": {},
   "source": [
    "**В таблице \"internet\" приведем дату сессии к типу datetime и добавим в таблицу столбец с указаием месяца сессии**"
   ]
  },
  {
   "cell_type": "code",
   "execution_count": 16,
   "id": "dfe5c560",
   "metadata": {},
   "outputs": [],
   "source": [
    "internet['session_date'] = pd.to_datetime(internet['session_date'], format='%Y-%m-%d')"
   ]
  },
  {
   "cell_type": "code",
   "execution_count": 17,
   "id": "c1f4fcba",
   "metadata": {},
   "outputs": [],
   "source": [
    "internet['month'] = internet['session_date'].dt.month"
   ]
  },
  {
   "cell_type": "code",
   "execution_count": 18,
   "id": "7ee01e52",
   "metadata": {},
   "outputs": [],
   "source": [
    "internet.info()"
   ]
  },
  {
   "cell_type": "markdown",
   "id": "1bcc9682",
   "metadata": {},
   "source": [
    "**В таблице \"message\" приведем дату к типу datetime и добавим столбец с указанием месяца сообщения** "
   ]
  },
  {
   "cell_type": "code",
   "execution_count": 19,
   "id": "b302d45f",
   "metadata": {},
   "outputs": [],
   "source": [
    "messages['message_date'] = pd.to_datetime(messages['message_date'], format='%Y-%m-%d')"
   ]
  },
  {
   "cell_type": "code",
   "execution_count": 20,
   "id": "a6e34ab7",
   "metadata": {},
   "outputs": [],
   "source": [
    "messages['month'] = messages['message_date'].dt.month"
   ]
  },
  {
   "cell_type": "code",
   "execution_count": 21,
   "id": "fe44ca20",
   "metadata": {},
   "outputs": [
    {
     "data": {},
     "execution_count": 21,
     "metadata": {},
     "output_type": "execute_result"
    }
   ],
   "source": [
    "messages.head()"
   ]
  },
  {
   "cell_type": "markdown",
   "id": "eeefcc27",
   "metadata": {},
   "source": [
    "**в таблице \"users\" приведем дату регистрации к типу datetime**"
   ]
  },
  {
   "cell_type": "code",
   "execution_count": 22,
   "id": "d83c6902",
   "metadata": {},
   "outputs": [],
   "source": [
    "users['reg_date'] = pd.to_datetime(users['reg_date'], format='%Y-%m-%d')"
   ]
  },
  {
   "cell_type": "markdown",
   "id": "839433f7",
   "metadata": {},
   "source": [
    "**Найдем для каждого пользователья количество сделанных звонков и израсходованных минут разговора по месяцам**"
   ]
  },
  {
   "cell_type": "code",
   "execution_count": 23,
   "id": "7a4c2e99",
   "metadata": {},
   "outputs": [
    {
     "data": {},
     "execution_count": 23,
     "metadata": {},
     "output_type": "execute_result"
    }
   ],
   "source": [
    "calls_pivot = calls.pivot_table(index=['user_id', 'month'], aggfunc={'call_date':'count', 'duration':sum}) \n",
    "calls_pivot.columns = ['calls_count', 'calls_duration']\n",
    "calls_pivot.head(10)"
   ]
  },
  {
   "cell_type": "markdown",
   "id": "883b63a7",
   "metadata": {},
   "source": [
    "**найдем для каждого пользователья количество отправленных сообщений по месяцам**"
   ]
  },
  {
   "cell_type": "code",
   "execution_count": 24,
   "id": "4106d3db",
   "metadata": {},
   "outputs": [
    {
     "data": {},
     "execution_count": 24,
     "metadata": {},
     "output_type": "execute_result"
    }
   ],
   "source": [
    "messages_pivot = messages.pivot_table(index=['user_id', 'month'], aggfunc= {'user_id':'count'}) \n",
    "messages_pivot.columns = ['messages_count']\n",
    "messages_pivot.head(10)"
   ]
  },
  {
   "cell_type": "markdown",
   "id": "411a25cf",
   "metadata": {},
   "source": [
    "**для каждого пользователья найдем количество истраченных в месяц мегабайт**"
   ]
  },
  {
   "cell_type": "code",
   "execution_count": 25,
   "id": "0fc4ee25",
   "metadata": {},
   "outputs": [
    {
     "data": {},
     "execution_count": 25,
     "metadata": {},
     "output_type": "execute_result"
    }
   ],
   "source": [
    "internet_pivot = internet.pivot_table(index=['user_id', 'month'], aggfunc={'mb_used':'sum'}) \n",
    "internet_pivot.columns = ['mb_used_sum']\n",
    "internet_pivot.head(10)"
   ]
  },
  {
   "cell_type": "markdown",
   "id": "cb76dcb6",
   "metadata": {},
   "source": [
    "**объединим в общую таблицу количество и продолжительность звонков, количество сообщений и интернет траффик для каждого пользователья по месяцам**"
   ]
  },
  {
   "cell_type": "code",
   "execution_count": 26,
   "id": "07c51c3e",
   "metadata": {},
   "outputs": [
    {
     "data": {},
     "execution_count": 26,
     "metadata": {},
     "output_type": "execute_result"
    }
   ],
   "source": [
    "df_ = calls_pivot.merge(messages_pivot, on=['user_id', 'month'], how='outer')\n",
    "df = df_.merge(internet_pivot, on=['user_id', 'month'], how='outer')\n",
    "df.head(3)"
   ]
  },
  {
   "cell_type": "code",
   "execution_count": 27,
   "id": "76709df7",
   "metadata": {},
   "outputs": [
    {
     "data": {},
     "execution_count": 27,
     "metadata": {},
     "output_type": "execute_result"
    }
   ],
   "source": [
    "#найдем пользователей тарифа смарт и выделим их в отдельную таблицу\n",
    "users_smart = list(users.query('tariff == \"smart\"')['user_id'])\n",
    "df_smart = df.query('user_id in @users_smart')\n",
    "df_smart = df_smart.fillna(0)\n",
    "df_smart.head()"
   ]
  },
  {
   "cell_type": "code",
   "execution_count": 28,
   "id": "6cd5cacd",
   "metadata": {},
   "outputs": [
    {
     "data": {},
     "execution_count": 28,
     "metadata": {},
     "output_type": "execute_result"
    }
   ],
   "source": [
    "#составим отдельную таблицу для пользователей тарифа ультра\n",
    "df_ultra = df.query('user_id not in @users_smart')\n",
    "df_ultra = df_ultra.fillna(0)\n",
    "df_ultra.head()"
   ]
  },
  {
   "cell_type": "markdown",
   "id": "de2ddd15",
   "metadata": {},
   "source": [
    "**напишем функцию, рассчитывающую доход с каждого пользователя в месяц в зависимости от выбранного тарифа**"
   ]
  },
  {
   "cell_type": "code",
   "execution_count": 29,
   "id": "61545fb1",
   "metadata": {},
   "outputs": [],
   "source": [
    "#t - номер тарифа\n",
    "def count_range(row, t = 0):\n",
    "    over_duration = row['calls_duration'] - tariffs.loc[t, 'minutes_included']\n",
    "    if over_duration < 0:\n",
    "        over_duration = 0\n",
    "    over_messages = row['messages_count'] - tariffs.loc[t, 'messages_included']\n",
    "    if over_messages < 0:\n",
    "        over_messages = 0\n",
    "    over_internet = row['mb_used_sum'] - tariffs.loc[t, 'mb_per_month_included']\n",
    "    if over_internet < 0:\n",
    "        over_internet = 0\n",
    "    return (tariffs.loc[t, 'rub_monthly_fee'] + \n",
    "            over_duration*tariffs.loc[t, 'rub_per_minute'] + \n",
    "            over_messages*tariffs.loc[t, 'rub_per_message'] + \n",
    "            np.ceil(over_internet/1024) * tariffs.loc[t, 'rub_per_gb'])"
   ]
  },
  {
   "cell_type": "code",
   "execution_count": 30,
   "id": "0be6f590",
   "metadata": {},
   "outputs": [
    {
     "data": {},
     "execution_count": 30,
     "metadata": {},
     "output_type": "execute_result"
    }
   ],
   "source": [
    "#рассчитаем доход с каждого пользователя тарифа смарт и добавим в таблицу\n",
    "df_smart['profit'] = df_smart.apply(lambda row: count_range(row, 0), axis=1)\n",
    "df_smart.head()"
   ]
  },
  {
   "cell_type": "code",
   "execution_count": 31,
   "id": "bb063dcf",
   "metadata": {},
   "outputs": [
    {
     "data": {},
     "execution_count": 31,
     "metadata": {},
     "output_type": "execute_result"
    }
   ],
   "source": [
    "#рассчитаем доход с каждого пользователя тарифа смарт и добавим в таблицу\n",
    "df_ultra['profit'] = df_ultra.apply(lambda row: count_range(row, 1), axis=1)\n",
    "df_ultra.head(5)"
   ]
  },
  {
   "cell_type": "code",
   "execution_count": 32,
   "id": "22862b18",
   "metadata": {},
   "outputs": [],
   "source": [
    "# посмотри соотношение данных по обоим тарифам:\n",
    "print(f'smart: {len(df_smart)}, ultra: {len(df_ultra)}')"
   ]
  },
  {
   "cell_type": "markdown",
   "id": "1b9cd6c7",
   "metadata": {},
   "source": [
    "**для дальнейшего анализа подготовлены две таблицы с пользователями тарифов smart и ultra и подсчитан доход по каждому пользователю за отдельный месяц**"
   ]
  },
  {
   "cell_type": "markdown",
   "id": "ac3c0b39",
   "metadata": {},
   "source": [
    "## 3. Анализ данных"
   ]
  },
  {
   "cell_type": "markdown",
   "id": "5373c810",
   "metadata": {},
   "source": [
    "**посмотрим на основные показатели пользователей по каждому тарифу**"
   ]
  },
  {
   "cell_type": "code",
   "execution_count": 33,
   "id": "48d3ce31",
   "metadata": {},
   "outputs": [],
   "source": [
    "from IPython.display import display_html\n",
    "from itertools import chain,cycle\n",
    "def display_side_by_side(*args,titles=cycle([''])):\n",
    "    html_str=''\n",
    "    for df10,title in zip(args, chain(titles,cycle(['</br>'])) ):\n",
    "        html_str+='<th style=\"text-align:center\"><td style=\"vertical-align:top\">'\n",
    "        html_str+=f'<h2>{title}</h2>'\n",
    "        html_str+=df10.to_html().replace('table','table style=\"display:inline\"')\n",
    "        html_str+='</td></th>'\n",
    "    display_html(html_str,raw=True)"
   ]
  },
  {
   "cell_type": "code",
   "execution_count": 34,
   "id": "a72dae80",
   "metadata": {},
   "outputs": [
    {
     "data": {},
     "metadata": {},
     "output_type": "display_data"
    }
   ],
   "source": [
    "display_side_by_side(df_ultra.describe(), df_smart.describe(), titles=['ultra','smart'])"
   ]
  },
  {
   "cell_type": "markdown",
   "id": "b8dc9924",
   "metadata": {},
   "source": [
    "**Мы видим что для обоих тарифов среднее и медиана близки друг к другу, а значит данные распределены достаточно равномерно. Исключение составлют сообщения в тарифе Ультра и доход в тарифе Смарт. Видимо в данных категориях существуют значительные выбросы, мы сможем отследить это графиках. В целом все показатели по тарифу ультра выше, чем по тарифу смарт.**"
   ]
  },
  {
   "cell_type": "code",
   "execution_count": 35,
   "id": "8d4bf87f",
   "metadata": {},
   "outputs": [
    {
     "data": {},
     "execution_count": 35,
     "metadata": {},
     "output_type": "execute_result"
    }
   ],
   "source": [
    "# рассчитаем дисперсию для каждого тарифа\n",
    "var_tariffs = pd.DataFrame(\n",
    "    {'smart': df_smart.var(ddof=1),\n",
    "     'ultra': df_ultra.var(ddof=1)\n",
    "    })\n",
    "pd.options.display.float_format = '{:,.2f}'.format\n",
    "var_tariffs"
   ]
  },
  {
   "cell_type": "markdown",
   "id": "a458b425",
   "metadata": {},
   "source": [
    "**Дисперсия по тарифу смарт меньше, чем по тарифу ультра. Это обусловлено тем, что пакет смарт включает гораздо меньший объем минут, сообщений и интернета, а следовательно и поведение пользователей более однородно. Дисперсия дохода от ползователей по тарифу ультра значительно меньше. Покольку для данного тарифа больше минут, сообщений и мегабайт включено в тариф, пользователям реже приходится пользоваться услугами сверх тарифа**"
   ]
  },
  {
   "cell_type": "code",
   "execution_count": 36,
   "id": "a5176903",
   "metadata": {},
   "outputs": [
    {
     "data": {
      "image/png": "[encoded data removed]"
     },
     "metadata": {
      "needs_background": "light"
     },
     "output_type": "display_data"
    },
    {
     "data": {
      "image/png": "[encoded data removed]"
     },
     "metadata": {
      "needs_background": "light"
     },
     "output_type": "display_data"
    },
    {
     "data": {
      "image/png": "[encoded data removed]"
     },
     "metadata": {
      "needs_background": "light"
     },
     "output_type": "display_data"
    },
    {
     "data": {
      "image/png": "[encoded data removed]"
     },
     "metadata": {
      "needs_background": "light"
     },
     "output_type": "display_data"
    },
    {
     "data": {
      "image/png": "[encoded data removed]"
     },
     "metadata": {
      "needs_background": "light"
     },
     "output_type": "display_data"
    }
   ],
   "source": [
    "# построим графики, характеризующие поведение пользователей\n",
    "dic = {'calls_count': 'количество звонков', 'calls_duration':'дительность звоков', 'messages_count':'количество сообщений', 'mb_used_sum':'интернет-трафик, мб', 'profit':'доход'}\n",
    "for x in dic:\n",
    "    fig, ax = plt.subplots()\n",
    "    a_heights, a_bins = np.histogram(df_ultra[x])\n",
    "\n",
    "    b_heights, b_bins = np.histogram(df_smart[x], bins=a_bins)\n",
    "\n",
    "    width = (a_bins[1] - a_bins[0])/3\n",
    "\n",
    "    ax.bar(a_bins[:-1], a_heights, width=width, facecolor='cornflowerblue', label='ultra')\n",
    "    ax.bar(b_bins[:-1]+width, b_heights, width=width, facecolor='seagreen', label = 'smart')\n",
    "    legend = ax.legend(loc='upper right', shadow=True, fontsize='medium')\n",
    "    plt.xlabel(dic[x])\n",
    "    plt.ylabel('количество')\n",
    "    plt.title(dic[x])\n",
    "    "
   ]
  },
  {
   "cell_type": "markdown",
   "id": "60e1be5c",
   "metadata": {},
   "source": [
    "**Из графиков видно, что распределения для пользователей тарифа Смарт более близко к нормальному.**"
   ]
  },
  {
   "cell_type": "code",
   "execution_count": 37,
   "id": "b039403d",
   "metadata": {},
   "outputs": [
    {
     "data": {
      "image/png": "[encoded data removed]"
     },
     "metadata": {
      "needs_background": "light"
     },
     "output_type": "display_data"
    },
    {
     "data": {
      "image/png": "[encoded data removed]"
     },
     "metadata": {
      "needs_background": "light"
     },
     "output_type": "display_data"
    },
    {
     "data": {
      "image/png": "[encoded data removed]"
     },
     "metadata": {
      "needs_background": "light"
     },
     "output_type": "display_data"
    },
    {
     "data": {
      "image/png": "[encoded data removed]"
     },
     "metadata": {
      "needs_background": "light"
     },
     "output_type": "display_data"
    },
    {
     "data": {
      "image/png": "[encoded data removed]"
     },
     "metadata": {
      "needs_background": "light"
     },
     "output_type": "display_data"
    }
   ],
   "source": [
    "dic = {'calls_count': 'количество звонков', 'calls_duration':'дительность звонков', 'messages_count':'количество сообщений', 'mb_used_sum':'интернет-трафик, мб', 'profit':'доход'}\n",
    "for x in dic:\n",
    "    fig, ax = plt.subplots()\n",
    "    df_smart.groupby(['user_id']).agg('mean')[x].hist(label='smart')\n",
    "    df_ultra.groupby(['user_id']).agg('mean')[x].hist(label = 'ultra')\n",
    "    legend = ax.legend(loc='upper right', shadow=True, fontsize='medium')\n",
    "    plt.xlabel(dic[x])\n",
    "    plt.ylabel('количество')\n",
    "    plt.title(dic[x])"
   ]
  },
  {
   "cell_type": "markdown",
   "id": "0346690a",
   "metadata": {},
   "source": [
    "**При первичном анализе среднего значения и медианы мы видели, что сообщения в тарифе Ультра и доход в тарифе Смарт имеют большую разницу между средним и медианой. Это подтверждается и графиками. Доход в тарифе Смарт имеет выбросы на значениях от 3600 (максимальное значение 6770), тогда как для тарифа Ультра значения разброманы в меньшем диапазоне (от 1950 до 4880).**"
   ]
  },
  {
   "cell_type": "markdown",
   "id": "97bdcbbf",
   "metadata": {},
   "source": [
    "## 4.Проверка гипотез"
   ]
  },
  {
   "cell_type": "markdown",
   "id": "dfb95d9b",
   "metadata": {},
   "source": [
    "Проверим следующую гипотезу:\n",
    "\n",
    "H0  — средняя выручка пользователей тарифов «Ультра» и «Смарт» равны\n",
    "\n",
    "H1  — средняя выручка пользователей тарифов «Ультра» и «Смарт» не равны\n",
    "\n",
    "α = 5% # критический уровень статистической значимости"
   ]
  },
  {
   "cell_type": "code",
   "execution_count": 38,
   "id": "9d5b9b1f",
   "metadata": {},
   "outputs": [],
   "source": [
    "alpha = 0.05\n",
    "results = st.ttest_ind(\n",
    "    df_smart['profit'], \n",
    "    df_ultra['profit'])\n",
    "\n",
    "print('p-значение:', results.pvalue)\n",
    "\n",
    "if results.pvalue < alpha:\n",
    "    print(\"Отвергаем нулевую гипотезу\")\n",
    "else:\n",
    "    print(\"Не получилось отвергнуть нулевую гипотезу\") "
   ]
  },
  {
   "cell_type": "markdown",
   "id": "9ae1c723",
   "metadata": {},
   "source": [
    "**Таким образом получаем, что средняя выручка пользователей тарифов «Ультра» и «Смарт» не равны**"
   ]
  },
  {
   "cell_type": "markdown",
   "id": "3602f461",
   "metadata": {},
   "source": [
    "Проверим следующую гипотезу:\n",
    "\n",
    "H0  — средняя выручка пользователей из Москвы равна выручке пользователей из других регионов\n",
    "\n",
    "H1  — средняя выручка пользователей из Москвы не равна выручке пользователей из других регионов\n",
    "\n",
    "α = 5%"
   ]
  },
  {
   "cell_type": "markdown",
   "id": "65e50a5c",
   "metadata": {},
   "source": [
    "**для подсчета выручки в москве и регионах объединим датафреймы** "
   ]
  },
  {
   "cell_type": "code",
   "execution_count": 39,
   "id": "e7ee4e8f",
   "metadata": {},
   "outputs": [
    {
     "data": {},
     "execution_count": 39,
     "metadata": {},
     "output_type": "execute_result"
    }
   ],
   "source": [
    "# объединим таблицы с разными тарифами в одну и найдем средний доход от каждого пользователя\n",
    "df_both = pd.concat([df_smart, df_ultra]).groupby(['user_id']).agg('mean')\n",
    "df_both.head()"
   ]
  },
  {
   "cell_type": "code",
   "execution_count": 40,
   "id": "bf4c8e84",
   "metadata": {},
   "outputs": [],
   "source": [
    "# добавим в получившуюся таблицу город пользователя и заменим пропущенные значения на нули\n",
    "df_both_city = df_both.merge(users[['user_id','city', 'tariff']], on='user_id', how = 'outer')\n",
    "df_both_city = df_both_city.fillna(0)"
   ]
  },
  {
   "cell_type": "code",
   "execution_count": 41,
   "id": "e2a92600",
   "metadata": {},
   "outputs": [],
   "source": [
    "alpha = 0.05\n",
    "results = st.ttest_ind(\n",
    "    df_both_city[df_both_city['city'] == 'Москва']['profit'], \n",
    "    df_both_city[df_both_city['city'] != 'Москва']['profit'], equal_var=False)\n",
    "\n",
    "\n",
    "print('p-значение:', results.pvalue)\n",
    "\n",
    "if results.pvalue < alpha:\n",
    "    print(\"Отвергаем нулевую гипотезу\")\n",
    "else:\n",
    "    print(\"Не получилось отвергнуть нулевую гипотезу\") "
   ]
  },
  {
   "cell_type": "markdown",
   "id": "8cf09deb",
   "metadata": {},
   "source": [
    "**Таким образом средняя выручка пользователей из Москвы близка к выручке пользователей из других регионов**"
   ]
  },
  {
   "cell_type": "markdown",
   "id": "674d5f00",
   "metadata": {},
   "source": [
    "## 5.Общий вывод"
   ]
  },
  {
   "cell_type": "markdown",
   "id": "2b4c45ea",
   "metadata": {},
   "source": [
    "**В ходе проведенного анализа установлено, что в среднем доход от пользователей тарифа Смарт составляет 818 рублей, пользователей тарифа Ультра - 2070 рублей. Средняя выручка не зависит от региона пользователя. \n",
    "По обоим тарифам пользователи в среднем используют гораздо меньше лимита сообщений (49 при лимите в 100 для Ультра, 33 при лимите в 50 для Смарт).\n",
    "По продолжительности звонков пользователи также укладываются в установленный лимит(417 при лимите 500 для Смарт, 526 при лимите 3000 для Ультра)\n",
    "Используемый в среднем интернет-траффик для пользователей тарифа Смарт превышает заявленный(16208 при лимите 15360), пользователи Ультра в среднем укладываются в предоставленный лимит (19468 при лимите 30720).\n",
    "Дисперсия по используемым услугам в тарифе Ультра выше, чем в тарифе Смарт, пользовтели более разнородны по своим предпочтениям.\n",
    "Таким образом, пользователей обоих тарифов может заинтересовать предложение с большим лимитом на интеренет или возможность определять для себя подходящие лимиты.**"
   ]
  }
 ],
 "metadata": {
  "ExecuteTimeLog": [
   {
    "duration": 33,
    "start_time": "2022-05-31T10:17:54.065Z"
   },
   {
    "duration": 61,
    "start_time": "2022-05-31T10:21:56.588Z"
   },
   {
    "duration": 1217,
    "start_time": "2022-05-31T10:23:52.144Z"
   },
   {
    "duration": 121,
    "start_time": "2022-05-31T10:23:53.363Z"
   },
   {
    "duration": 0,
    "start_time": "2022-05-31T10:23:53.487Z"
   },
   {
    "duration": 0,
    "start_time": "2022-05-31T10:23:53.488Z"
   },
   {
    "duration": 0,
    "start_time": "2022-05-31T10:23:53.490Z"
   },
   {
    "duration": 0,
    "start_time": "2022-05-31T10:23:53.491Z"
   },
   {
    "duration": 0,
    "start_time": "2022-05-31T10:23:53.492Z"
   },
   {
    "duration": 0,
    "start_time": "2022-05-31T10:23:53.494Z"
   },
   {
    "duration": 0,
    "start_time": "2022-05-31T10:23:53.495Z"
   },
   {
    "duration": 0,
    "start_time": "2022-05-31T10:23:53.497Z"
   },
   {
    "duration": 0,
    "start_time": "2022-05-31T10:23:53.498Z"
   },
   {
    "duration": 0,
    "start_time": "2022-05-31T10:23:53.499Z"
   },
   {
    "duration": 0,
    "start_time": "2022-05-31T10:23:53.527Z"
   },
   {
    "duration": 0,
    "start_time": "2022-05-31T10:23:53.528Z"
   },
   {
    "duration": 0,
    "start_time": "2022-05-31T10:23:53.530Z"
   },
   {
    "duration": 0,
    "start_time": "2022-05-31T10:23:53.532Z"
   },
   {
    "duration": 0,
    "start_time": "2022-05-31T10:23:53.533Z"
   },
   {
    "duration": 0,
    "start_time": "2022-05-31T10:23:53.534Z"
   },
   {
    "duration": 0,
    "start_time": "2022-05-31T10:23:53.535Z"
   },
   {
    "duration": 0,
    "start_time": "2022-05-31T10:23:53.537Z"
   },
   {
    "duration": 0,
    "start_time": "2022-05-31T10:23:53.538Z"
   },
   {
    "duration": 0,
    "start_time": "2022-05-31T10:23:53.539Z"
   },
   {
    "duration": 0,
    "start_time": "2022-05-31T10:23:53.541Z"
   },
   {
    "duration": 0,
    "start_time": "2022-05-31T10:23:53.542Z"
   },
   {
    "duration": 0,
    "start_time": "2022-05-31T10:23:53.544Z"
   },
   {
    "duration": 0,
    "start_time": "2022-05-31T10:23:53.546Z"
   },
   {
    "duration": 0,
    "start_time": "2022-05-31T10:23:53.548Z"
   },
   {
    "duration": 0,
    "start_time": "2022-05-31T10:23:53.549Z"
   },
   {
    "duration": 0,
    "start_time": "2022-05-31T10:23:53.550Z"
   },
   {
    "duration": 0,
    "start_time": "2022-05-31T10:23:53.552Z"
   },
   {
    "duration": 0,
    "start_time": "2022-05-31T10:23:53.553Z"
   },
   {
    "duration": 0,
    "start_time": "2022-05-31T10:23:53.554Z"
   },
   {
    "duration": 0,
    "start_time": "2022-05-31T10:23:53.556Z"
   },
   {
    "duration": 0,
    "start_time": "2022-05-31T10:23:53.558Z"
   },
   {
    "duration": 0,
    "start_time": "2022-05-31T10:23:53.559Z"
   },
   {
    "duration": 0,
    "start_time": "2022-05-31T10:23:53.561Z"
   },
   {
    "duration": 0,
    "start_time": "2022-05-31T10:23:53.562Z"
   },
   {
    "duration": 0,
    "start_time": "2022-05-31T10:23:53.564Z"
   },
   {
    "duration": 0,
    "start_time": "2022-05-31T10:23:53.565Z"
   },
   {
    "duration": 0,
    "start_time": "2022-05-31T10:23:53.567Z"
   },
   {
    "duration": 0,
    "start_time": "2022-05-31T10:23:53.568Z"
   },
   {
    "duration": 7,
    "start_time": "2022-05-31T10:24:20.600Z"
   }
  ],
  "kernelspec": {
   "display_name": "Python 3 (ipykernel)",
   "language": "python",
   "name": "python3"
  },
  "language_info": {
   "codemirror_mode": {
    "name": "ipython",
    "version": 3
   },
   "file_extension": ".py",
   "mimetype": "text/x-python",
   "name": "python",
   "nbconvert_exporter": "python",
   "pygments_lexer": "ipython3",
   "version": "3.8.8"
  },
  "toc": {
   "base_numbering": 1,
   "nav_menu": {},
   "number_sections": true,
   "sideBar": true,
   "skip_h1_title": true,
   "title_cell": "Table of Contents",
   "title_sidebar": "Contents",
   "toc_cell": false,
   "toc_position": {},
   "toc_section_display": true,
   "toc_window_display": false
  }
 },
 "nbformat": 4,
 "nbformat_minor": 5
}
